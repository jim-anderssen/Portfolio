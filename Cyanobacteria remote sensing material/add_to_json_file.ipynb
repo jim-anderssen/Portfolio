{
 "cells": [
  {
   "cell_type": "code",
   "execution_count": 1,
   "id": "39bcb620-e52e-45f9-9840-8c257447bef7",
   "metadata": {},
   "outputs": [],
   "source": [
    "import json\n",
    "import os"
   ]
  },
  {
   "cell_type": "code",
   "execution_count": 4,
   "id": "9f4dd174-6839-4dfd-b9c1-a0d4b86b7ea0",
   "metadata": {},
   "outputs": [
    {
     "name": "stdout",
     "output_type": "stream",
     "text": [
      "2025 Björnholmens simstrand_m\n",
      "2025 Björnholmens simstrand_sd\n",
      "2025 Forsby badstrand_m\n",
      "2025 Forsby badstrand_sd\n",
      "2025 Gunnarskangans simstrand_m\n",
      "2025 Gunnarskangans simstrand_sd\n",
      "2025 Kantlax simstrand_m\n",
      "2025 Kantlax simstrand_sd\n",
      "2025 Lojlax simstrand_m\n",
      "2025 Lojlax simstrand_sd\n",
      "2025 Sexsjö badstrand_m\n",
      "2025 Sexsjö badstrand_sd\n",
      "2025 Storsand badstrand_m\n",
      "2025 Storsand badstrand_sd\n",
      "2025 Vexala fritidsområdes simstrand_m\n",
      "2025 Vexala fritidsområdes simstrand_sd\n",
      "2025 Vilttorpets badstrand_m\n",
      "2025 Vilttorpets badstrand_sd\n"
     ]
    }
   ],
   "source": [
    "scanned = []\n",
    "for i,file in enumerate(os.listdir('data')):\n",
    "    if file[0] == '2':\n",
    "        print(file)\n",
    "        scanned.append(file)"
   ]
  },
  {
   "cell_type": "code",
   "execution_count": 5,
   "id": "7073e06f-c4f3-499c-b85a-4d1b5f473951",
   "metadata": {},
   "outputs": [],
   "source": [
    "\n",
    "\n",
    "for file in scanned:\n",
    "    #if file in scanned:\n",
    "     #   circles[file]['Last scan'] = date\n",
    "    #else:\n",
    "     #   circles[file]['Last scan'] = 'none'\n",
    "    os.rename(f\"data/{file}\",f\"data/{file[5:]}\")"
   ]
  },
  {
   "cell_type": "code",
   "execution_count": null,
   "id": "385ee69b-6229-4413-aec1-5367ffec27c1",
   "metadata": {},
   "outputs": [],
   "source": []
  },
  {
   "cell_type": "code",
   "execution_count": 63,
   "id": "13ff3beb-b9ec-49d9-b64e-8210269ec8df",
   "metadata": {},
   "outputs": [],
   "source": [
    "with open('circles_by_name.json','w') as f:      \n",
    "    json.dump(circles,f,indent=2)"
   ]
  }
 ],
 "metadata": {
  "kernelspec": {
   "display_name": "Python 3 (ipykernel)",
   "language": "python",
   "name": "python3"
  },
  "language_info": {
   "codemirror_mode": {
    "name": "ipython",
    "version": 3
   },
   "file_extension": ".py",
   "mimetype": "text/x-python",
   "name": "python",
   "nbconvert_exporter": "python",
   "pygments_lexer": "ipython3",
   "version": "3.13.5"
  }
 },
 "nbformat": 4,
 "nbformat_minor": 5
}
